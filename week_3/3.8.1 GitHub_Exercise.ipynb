{
 "cells": [
  {
   "cell_type": "markdown",
   "metadata": {},
   "source": [
    "## Practicing the Course Workflow With Git and GitHub\n",
    "\n",
    "1.  This is a simple exercise to show you the process of working with Git and GitHub. The code below defines a string, groceries. Click in the code cell to edit it, then extend the code to split the string into a list of strings, each containing one item. Create a new list that has the same elements but in reverse order. Finally, print the new list."
   ]
  },
  {
   "cell_type": "code",
   "execution_count": 1,
   "metadata": {},
   "outputs": [
    {
     "name": "stdout",
     "output_type": "stream",
     "text": [
      "apples corn potatoes yams parsley raddish onions beef\n"
     ]
    }
   ],
   "source": [
    "groceries = \"apples corn potatoes yams parsley raddish onions beef banana\"\n",
    "print(groceries)"
   ]
  }
 ],
 "metadata": {
  "kernelspec": {
   "display_name": "Python 3",
   "language": "python",
   "name": "python3"
  },
  "language_info": {
   "codemirror_mode": {
    "name": "ipython",
    "version": 3
   },
   "file_extension": ".py",
   "mimetype": "text/x-python",
   "name": "python",
   "nbconvert_exporter": "python",
   "pygments_lexer": "ipython3",
   "version": "3.6.5"
  },
  "toc": {
   "base_numbering": 1,
   "nav_menu": {},
   "number_sections": false,
   "sideBar": false,
   "skip_h1_title": false,
   "title_cell": "Table of Contents",
   "title_sidebar": "Contents",
   "toc_cell": false,
   "toc_position": {},
   "toc_section_display": false,
   "toc_window_display": false
  }
 },
 "nbformat": 4,
 "nbformat_minor": 1
}
